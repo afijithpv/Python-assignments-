{
  "nbformat": 4,
  "nbformat_minor": 0,
  "metadata": {
    "colab": {
      "provenance": [],
      "authorship_tag": "ABX9TyOmgXmMVFYFK9PHSwd16JIN"
    },
    "kernelspec": {
      "name": "python3",
      "display_name": "Python 3"
    },
    "language_info": {
      "name": "python"
    }
  },
  "cells": [
    {
      "cell_type": "code",
      "source": [
        "list1=[5,10,15,20]\n",
        "sum_of_all_integers=sum(list1)\n",
        "print(sum_of_all_integers)"
      ],
      "metadata": {
        "colab": {
          "base_uri": "https://localhost:8080/"
        },
        "id": "L1RBvdaV-GIN",
        "outputId": "c9e93ae4-9605-4bb0-b46d-86dc54a01874"
      },
      "execution_count": 3,
      "outputs": [
        {
          "output_type": "stream",
          "name": "stdout",
          "text": [
            "50\n"
          ]
        }
      ]
    },
    {
      "cell_type": "code",
      "source": [
        "sentence = input(\"Enter a sentence: \")\n",
        "print(\"Length of the sentence:\", len(sentence))\n",
        "first_half = sentence[:len(sentence)//2]\n",
        "print(\"First half of the string:\", first_half)"
      ],
      "metadata": {
        "colab": {
          "base_uri": "https://localhost:8080/"
        },
        "id": "TxC11g9M-x83",
        "outputId": "6333c0ae-5026-4b14-fb6f-0fc15222e10f"
      },
      "execution_count": 5,
      "outputs": [
        {
          "output_type": "stream",
          "name": "stdout",
          "text": [
            "Enter a sentence: howareyou\n",
            "Length of the sentence: 9\n",
            "First half of the string: howa\n"
          ]
        }
      ]
    },
    {
      "cell_type": "code",
      "source": [
        "tuple1=(78,45,32,19,82,77,40,39)\n",
        "tuple1_list=list(tuple1)\n",
        "tuple1_list[2]=100\n",
        "tuple1_list"
      ],
      "metadata": {
        "colab": {
          "base_uri": "https://localhost:8080/"
        },
        "id": "dU2mPv45A5qf",
        "outputId": "d198a26d-8710-48de-b9ae-8abee7546bf7"
      },
      "execution_count": 17,
      "outputs": [
        {
          "output_type": "execute_result",
          "data": {
            "text/plain": [
              "[78, 45, 100, 19, 82, 77, 40, 39]"
            ]
          },
          "metadata": {},
          "execution_count": 17
        }
      ]
    },
    {
      "cell_type": "code",
      "source": [
        "listA = [19, 32, 10, 55, 31, 32, 94, 29, 10, 65, 77, 40, 40]\n",
        "listA.remove(32)\n",
        "del listA[5]\n",
        "listA[9] = 300\n",
        "listA.insert(2, 200)\n",
        "print(\"Final List:\", listA)\n",
        "print(\"Length of the list:\", len(listA))\n",
        "print(\"Maximum value in the list:\", max(listA))\n",
        "print(\"Sum of all elements in the list:\", sum(listA))"
      ],
      "metadata": {
        "colab": {
          "base_uri": "https://localhost:8080/"
        },
        "id": "1r8gmNOME48_",
        "outputId": "5bf29239-b794-43cc-bfbe-14ece7b84369"
      },
      "execution_count": 19,
      "outputs": [
        {
          "output_type": "stream",
          "name": "stdout",
          "text": [
            "Final List: [19, 10, 200, 55, 31, 32, 29, 10, 65, 77, 300, 40]\n",
            "Length of the list: 12\n",
            "Maximum value in the list: 300\n",
            "Sum of all elements in the list: 868\n"
          ]
        }
      ]
    }
  ]
}