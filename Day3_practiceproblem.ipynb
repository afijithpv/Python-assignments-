{
  "nbformat": 4,
  "nbformat_minor": 0,
  "metadata": {
    "colab": {
      "provenance": [],
      "authorship_tag": "ABX9TyNUecQWshsIBsRLeG7bI1hz",
      "include_colab_link": true
    },
    "kernelspec": {
      "name": "python3",
      "display_name": "Python 3"
    },
    "language_info": {
      "name": "python"
    }
  },
  "cells": [
    {
      "cell_type": "markdown",
      "metadata": {
        "id": "view-in-github",
        "colab_type": "text"
      },
      "source": [
        "<a href=\"https://colab.research.google.com/github/afijithpv/Python-assignments-/blob/main/Day3_practiceproblem.ipynb\" target=\"_parent\"><img src=\"https://colab.research.google.com/assets/colab-badge.svg\" alt=\"Open In Colab\"/></a>"
      ]
    },
    {
      "cell_type": "code",
      "execution_count": 18,
      "metadata": {
        "id": "m6pv0vCQ7tNE"
      },
      "outputs": [],
      "source": []
    },
    {
      "cell_type": "code",
      "source": [
        "scores = [2,6,4,3,8]\n",
        "#scores=input(\"Enter a list of score separated by commas: \")\n",
        "#scores_arr=map(int, input().split(','))\n",
        "\n",
        "sorted_scores = sorted(scores, reverse=True)\n",
        "if len(scores) < 2:\n",
        " print(\"There is no runner-up score.\")\n",
        "else:\n",
        " print(\"The runner-up score is:\", sorted_scores[1])\n"
      ],
      "metadata": {
        "colab": {
          "base_uri": "https://localhost:8080/"
        },
        "id": "iQTLvZX5-ouC",
        "outputId": "91513b56-0785-4a7a-fd00-2df4f0d29972"
      },
      "execution_count": 27,
      "outputs": [
        {
          "output_type": "stream",
          "name": "stdout",
          "text": [
            "The runner-up score is: 6\n"
          ]
        }
      ]
    },
    {
      "cell_type": "code",
      "source": [
        "\n",
        "D = {'John': [25, 32, 43], 'Peter': [87, 55, 96], 'Ram': [58, 55, 43], 'Meena': [63, 79, 85]}\n",
        "name = input(\"Enter a name:\")\n",
        "capitalized_name = name.capitalize()\n",
        "if capitalized_name in D:\n",
        " D[capitalized_name] = [88, 77, 99]\n",
        " print(D)\n",
        "else:\n",
        " print(\"Name not found\")\n"
      ],
      "metadata": {
        "colab": {
          "base_uri": "https://localhost:8080/"
        },
        "id": "YklMhBVPHwjH",
        "outputId": "57c1e85f-7a48-4c9f-8d03-db6360b35a7c"
      },
      "execution_count": 6,
      "outputs": [
        {
          "output_type": "stream",
          "name": "stdout",
          "text": [
            "Enter a name:meena\n",
            "{'John': [25, 32, 43], 'Peter': [87, 55, 96], 'Ram': [58, 55, 43], 'Meena': [88, 77, 99]}\n"
          ]
        }
      ]
    },
    {
      "cell_type": "code",
      "source": [
        "age = int(input(\"Enter your age: \"))\n",
        "gender = input(\"Enter your gender (male/female): \")\n",
        "ticket_price = 0\n",
        "\n",
        "if age < 5 or age > 60:\n",
        "    ticket_price = 0\n",
        "elif 5 <= age <= 12:\n",
        "    ticket_price = 10\n",
        "else:\n",
        "    ticket_price = 50\n",
        "\n",
        "if gender.lower() == 'female':\n",
        "    ticket_price *= 0.5\n",
        "print(\"Ticket price:\", ticket_price)\n"
      ],
      "metadata": {
        "colab": {
          "base_uri": "https://localhost:8080/"
        },
        "id": "DVpn05JSj82s",
        "outputId": "21381bd8-1e99-405f-c8c6-f86eadaf5542"
      },
      "execution_count": 7,
      "outputs": [
        {
          "output_type": "stream",
          "name": "stdout",
          "text": [
            "Enter your age: 12\n",
            "Enter your gender (male/female): male\n",
            "Ticket price: 10\n"
          ]
        }
      ]
    }
  ]
}