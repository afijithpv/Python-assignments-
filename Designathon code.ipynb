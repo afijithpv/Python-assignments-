{
  "nbformat": 4,
  "nbformat_minor": 0,
  "metadata": {
    "colab": {
      "provenance": [],
      "toc_visible": true,
      "include_colab_link": true
    },
    "kernelspec": {
      "name": "python3",
      "display_name": "Python 3"
    },
    "language_info": {
      "name": "python"
    }
  },
  "cells": [
    {
      "cell_type": "markdown",
      "metadata": {
        "id": "view-in-github",
        "colab_type": "text"
      },
      "source": [
        "<a href=\"https://colab.research.google.com/github/afijithpv/Python-assignments-/blob/main/Designathon%20code.ipynb\" target=\"_parent\"><img src=\"https://colab.research.google.com/assets/colab-badge.svg\" alt=\"Open In Colab\"/></a>"
      ]
    },
    {
      "cell_type": "markdown",
      "source": [
        "1. Write a program that checks if a given year is a leap year. A leap year is divisible by 4 but not by 100, or it is divisible by 400. For example, 2000 and 2004 are leap years, but 1900 is not."
      ],
      "metadata": {
        "id": "HFzKEWuv8GKN"
      }
    },
    {
      "cell_type": "code",
      "source": [
        "from flask import render_template, url_for, flash, redirect, request, session\n",
        "from app import app, mysql\n",
        "from werkzeug.security import generate_password_hash, check_password_hash\n",
        "import MySQLdb.cursors\n",
        "\n",
        "@app.route('/')\n",
        "def home():\n",
        "    cursor = mysql.connection.cursor(MySQLdb.cursors.DictCursor)\n",
        "    cursor.execute('SELECT * FROM recipes')\n",
        "    recipes = cursor.fetchall()\n",
        "    return render_template('home.html', recipes=recipes)\n",
        "\n",
        "@app.route('/recipe/<int:recipe_id>', methods=['GET', 'POST'])\n",
        "def recipe_detail(recipe_id):\n",
        "    cursor = mysql.connection.cursor(MySQLdb.cursors.DictCursor)\n",
        "    cursor.execute('SELECT * FROM recipes WHERE id = %s', (recipe_id,))\n",
        "    recipe = cursor.fetchone()\n",
        "    cursor.execute('SELECT comments.comment, users.username, comments.date_posted FROM comments JOIN users ON comments.user_id = users.id WHERE recipe_id = %s', (recipe_id,))\n",
        "    comments = cursor.fetchall()\n",
        "    return render_template('recipe_detail.html', recipe=recipe, comments=comments)\n",
        "\n",
        "@app.route('/submit_recipe', methods=['GET', 'POST'])\n",
        "def submit_recipe():\n",
        "    if 'user_id' not in session:\n",
        "        flash('You need to log in to submit a recipe', 'danger')\n",
        "        return redirect(url_for('login'))\n",
        "    if request.method == 'POST':\n",
        "        name = request.form['name']\n",
        "        ingredients = request.form['ingredients']\n",
        "        instructions = request.form['instructions']\n",
        "        cooking_time = request.form['cooking_time']\n",
        "        serving_size = request.form['serving_size']\n",
        "        cursor = mysql.connection.cursor(MySQLdb.cursors.DictCursor)\n",
        "        cursor.execute('INSERT INTO recipes (name, ingredients, instructions, cooking_time, serving_size, user_id) VALUES (%s, %s, %s, %s, %s, %s)',\n",
        "                       (name, ingredients, instructions, cooking_time, serving_size, session['user_id']))\n",
        "        mysql.connection.commit()\n",
        "        flash('Your recipe has been submitted!', 'success')\n",
        "        return redirect(url_for('home'))\n",
        "    return render_template('submit_recipe.html')\n",
        "\n",
        "@app.route('/register', methods=['GET', 'POST'])\n",
        "def register():\n",
        "    if request.method == 'POST':\n",
        "        username = request.form['username']\n",
        "        email = request.form['email']\n",
        "        password = generate_password_hash(request.form['password'])\n",
        "        cursor = mysql.connection.cursor(MySQLdb.cursors.DictCursor)\n",
        "        cursor.execute('INSERT INTO users (username, email, password) VALUES (%s, %s, %s)', (username, email, password))\n",
        "        mysql.connection.commit()\n",
        "        flash('Your account has been created! You can now log in', 'success')\n",
        "        return redirect(url_for('login'))\n",
        "    return render_template('register.html')\n",
        "\n",
        "@app.route('/login', methods=['GET', 'POST'])\n",
        "def login():\n",
        "    if request.method == 'POST':\n",
        "        email = request.form['email']\n",
        "        password = request.form['password']\n",
        "        cursor = mysql.connection.cursor(MySQLdb.cursors.DictCursor)\n",
        "        cursor.execute('SELECT * FROM users WHERE email = %s', (email,))\n",
        "        user = cursor.fetchone()\n",
        "        if user and check_password_hash(user['password'], password):\n",
        "            session['user_id'] = user['id']\n",
        "            session['username'] = user['username']\n",
        "            flash('You have been logged in!', 'success')\n",
        "            return redirect(url_for('home'))\n",
        "        else:\n",
        "            flash('Login Unsuccessful. Please check email and password', 'danger')\n",
        "    return render_template('login.html')\n",
        "\n",
        "@app.route('/logout')\n",
        "def logout():\n",
        "    session.pop('user_id', None)\n",
        "    session.pop('username', None)\n",
        "    flash('You have been logged out', 'success')\n",
        "    return redirect(url_for('home'))\n"
      ],
      "metadata": {
        "id": "dzFbNwX2O7Tf"
      },
      "execution_count": null,
      "outputs": []
    },
    {
      "cell_type": "code",
      "source": [],
      "metadata": {
        "id": "5ldK9gM1O-xH"
      },
      "execution_count": null,
      "outputs": []
    },
    {
      "cell_type": "code",
      "execution_count": null,
      "metadata": {
        "colab": {
          "base_uri": "https://localhost:8080/"
        },
        "id": "zSyCw9Vx8BrF",
        "outputId": "abf21b7d-123f-4ec5-ae5e-1d2c56d30d78"
      },
      "outputs": [
        {
          "output_type": "stream",
          "name": "stdout",
          "text": [
            "2000 is a leap year\n",
            "2004 is a leap year\n",
            "1900 is not a leap year\n",
            "2020 is a leap year\n",
            "2100 is not a leap year\n",
            "2024 is a leap year\n"
          ]
        }
      ],
      "source": [
        "# List of years to check\n",
        "years_to_check = [2000, 2004, 1900, 2020, 2100, 2024]\n",
        "\n",
        "# Iterate through each year and check if it's a leap year\n",
        "for year in years_to_check:\n",
        "    if (year % 4 == 0 and year % 100 != 0) or (year % 400 == 0):\n",
        "        print(year, \"is a leap year\")\n",
        "    else:\n",
        "        print(year, \"is not a leap year\")"
      ]
    },
    {
      "cell_type": "markdown",
      "source": [
        "2. Write a program that calculates the factorial of a number. The factorial of a non-negative integer n is the product of all positive integers less than or equal to n. For example, the factorial of 5 (denoted as 5!) is 5 x 4 x 3 x 2 x 1 = 120."
      ],
      "metadata": {
        "id": "KbE5O2kG9fi0"
      }
    },
    {
      "cell_type": "code",
      "source": [
        "# Input: Enter a non-negative integer for which you want to calculate factorial\n",
        "number = int(input(\"Enter a non-negative integer: \"))\n",
        "\n",
        "# Check if the input number is valid (non-negative)\n",
        "if number < 0:\n",
        "    print(\"Factorial is not defined for negative numbers.\")\n",
        "elif number == 0:\n",
        "    print(\"Factorial of 0 is 1\")\n",
        "else:\n",
        "    factorial = 1\n",
        "    # Calculate factorial using a loop (iterative approach)\n",
        "    for i in range(1, number + 1):\n",
        "        factorial *= i\n",
        "\n",
        "    # Print the factorial of the input number\n",
        "    print(\"The factorial of\", number, \"is\",factorial)"
      ],
      "metadata": {
        "colab": {
          "base_uri": "https://localhost:8080/"
        },
        "id": "jgWVeght9S00",
        "outputId": "852d1519-c94a-4ee1-aa2a-cd8c5e2c43d9"
      },
      "execution_count": null,
      "outputs": [
        {
          "output_type": "stream",
          "name": "stdout",
          "text": [
            "Enter a non-negative integer: 5\n",
            "The factorial of 5 is 120\n"
          ]
        }
      ]
    },
    {
      "cell_type": "markdown",
      "source": [
        "3. Write a program that generates the Fibonacci sequence up to a certain number of terms. The Fibonacci sequence is a series of numbers where each number is the sum of the two preceding ones, starting from 0 and 1. For example, the first 10 terms of the Fibonacci sequence are 0, 1, 1, 2, 3, 5, 8, 13, 21, 34."
      ],
      "metadata": {
        "id": "xsD_xeBo9zc8"
      }
    },
    {
      "cell_type": "code",
      "source": [
        "# Input: Number of terms in the Fibonacci sequence to generate\n",
        "num_terms = int(input(\"Enter the number of Fibonacci terms to generate: \"))\n",
        "\n",
        "# Check if the input number of terms is valid (positive integer)\n",
        "if num_terms <= 0:\n",
        "    print(\"Please enter a positive integer.\")\n",
        "else:\n",
        "    # Initialize the first two terms of the Fibonacci sequence\n",
        "    first_term = 0\n",
        "    second_term = 1\n",
        "\n",
        "    # Print the first two terms (special case for Fibonacci sequence)\n",
        "    if num_terms >= 1:\n",
        "        print(first_term, end=' ')\n",
        "    if num_terms >= 2:\n",
        "        print(second_term, end=' ')\n",
        "\n",
        "    # Generate subsequent terms of the Fibonacci sequence using a loop\n",
        "    for _ in range(2, num_terms):\n",
        "        next_term = first_term + second_term\n",
        "        print(next_term, end=' ')\n",
        "        # Update the values of first_term and second_term for the next iteration\n",
        "        first_term = second_term\n",
        "        second_term = next_term"
      ],
      "metadata": {
        "colab": {
          "base_uri": "https://localhost:8080/"
        },
        "id": "pmixPXFF9wa2",
        "outputId": "d0afae60-0adc-4f9f-b9a5-73ef203f532f"
      },
      "execution_count": null,
      "outputs": [
        {
          "output_type": "stream",
          "name": "stdout",
          "text": [
            "Enter the number of Fibonacci terms to generate: 5\n",
            "0 1 1 2 3 \n"
          ]
        }
      ]
    },
    {
      "cell_type": "markdown",
      "source": [
        "4. Write a program to print all prime numbers within 1 to 1000."
      ],
      "metadata": {
        "id": "UCmFC9dq-Ll1"
      }
    },
    {
      "cell_type": "code",
      "source": [
        "# Iterate through numbers from 2 to 1000 (inclusive)\n",
        "for num in range(2, 1001):\n",
        "    is_prime = True  # Assume num is prime initially\n",
        "\n",
        "    # Check if num is divisible by any number from 2 to num-1\n",
        "    for divisor in range(2, num):\n",
        "        if num % divisor == 0:\n",
        "            is_prime = False\n",
        "            break\n",
        "\n",
        "    # Print the number if it is prime\n",
        "    if is_prime:\n",
        "        print(num, end=' ')"
      ],
      "metadata": {
        "colab": {
          "base_uri": "https://localhost:8080/"
        },
        "id": "c8gvu5V9-C8T",
        "outputId": "34f7bcf3-aec1-4801-85b6-1a34e9d40be2"
      },
      "execution_count": null,
      "outputs": [
        {
          "output_type": "stream",
          "name": "stdout",
          "text": [
            "2 3 5 7 11 13 17 19 23 29 31 37 41 43 47 53 59 61 67 71 73 79 83 89 97 101 103 107 109 113 127 131 137 139 149 151 157 163 167 173 179 181 191 193 197 199 211 223 227 229 233 239 241 251 257 263 269 271 277 281 283 293 307 311 313 317 331 337 347 349 353 359 367 373 379 383 389 397 401 409 419 421 431 433 439 443 449 457 461 463 467 479 487 491 499 503 509 521 523 541 547 557 563 569 571 577 587 593 599 601 607 613 617 619 631 641 643 647 653 659 661 673 677 683 691 701 709 719 727 733 739 743 751 757 761 769 773 787 797 809 811 821 823 827 829 839 853 857 859 863 877 881 883 887 907 911 919 929 937 941 947 953 967 971 977 983 991 997 \n"
          ]
        }
      ]
    },
    {
      "cell_type": "markdown",
      "source": [
        "5. Write a program to check whether given number is Amstrong\n",
        "An Armstrong number is a number that is equal to the sum of its own digits raised to the power of the number of digits. For example, 153 is an Armstrong number because:\n",
        "1^3 + 5^3 + 3^3 = 1 + 125 + 27 = 153"
      ],
      "metadata": {
        "id": "VOKRLwWb-puc"
      }
    },
    {
      "cell_type": "code",
      "source": [
        "# Input: Enter a number to check if it is an Armstrong number\n",
        "number = int(input(\"Enter a number: \"))\n",
        "\n",
        "# Convert the number to a string to determine the number of digits\n",
        "num_str = str(number)\n",
        "num_digits = len(num_str)\n",
        "\n",
        "# Calculate the sum of digits raised to the power of the number of digits\n",
        "sum_of_powers = 0\n",
        "temp = number\n",
        "\n",
        "while temp > 0:\n",
        "    digit = temp % 10  # Extract the last digit\n",
        "    sum_of_powers += digit ** num_digits\n",
        "    temp //= 10  # Remove the last digit from the number\n",
        "\n",
        "# Check if the sum of powers is equal to the original number\n",
        "if sum_of_powers == number:\n",
        "    print(number,\" is an Armstrong number\")\n",
        "else:\n",
        "    print(number, \"is not an Armstrong number\")"
      ],
      "metadata": {
        "colab": {
          "base_uri": "https://localhost:8080/"
        },
        "id": "4J2xMG9a-bPE",
        "outputId": "8e9cae27-1d37-4c2c-fe2b-9ef77f6ec7f2"
      },
      "execution_count": null,
      "outputs": [
        {
          "output_type": "stream",
          "name": "stdout",
          "text": [
            "Enter a number: 153\n",
            "153 is an Armstrong number\n"
          ]
        }
      ]
    },
    {
      "cell_type": "code",
      "source": [],
      "metadata": {
        "id": "ai3307PR-3DT"
      },
      "execution_count": null,
      "outputs": []
    }
  ]
}