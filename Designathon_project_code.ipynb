{
  "nbformat": 4,
  "nbformat_minor": 0,
  "metadata": {
    "colab": {
      "provenance": [],
      "authorship_tag": "ABX9TyPiRTRjj79Sa/qAIXGef3Sz",
      "include_colab_link": true
    },
    "kernelspec": {
      "name": "python3",
      "display_name": "Python 3"
    },
    "language_info": {
      "name": "python"
    }
  },
  "cells": [
    {
      "cell_type": "markdown",
      "metadata": {
        "id": "view-in-github",
        "colab_type": "text"
      },
      "source": [
        "<a href=\"https://colab.research.google.com/github/afijithpv/Python-assignments-/blob/main/Designathon_project_code.ipynb\" target=\"_parent\"><img src=\"https://colab.research.google.com/assets/colab-badge.svg\" alt=\"Open In Colab\"/></a>"
      ]
    },
    {
      "cell_type": "code",
      "execution_count": null,
      "metadata": {
        "id": "UCUozsMSQE-V"
      },
      "outputs": [],
      "source": [
        "from flask import render_template, url_for, flash, redirect, request, session\n",
        "from app import app, mysql\n",
        "from werkzeug.security import generate_password_hash, check_password_hash\n",
        "import MySQLdb.cursors\n",
        "\n",
        "@app.route('/')\n",
        "def home():\n",
        "    cursor = mysql.connection.cursor(MySQLdb.cursors.DictCursor)\n",
        "    cursor.execute('SELECT * FROM recipes')\n",
        "    recipes = cursor.fetchall()\n",
        "    return render_template('home.html', recipes=recipes)\n",
        "\n",
        "@app.route('/recipe/<int:recipe_id>', methods=['GET', 'POST'])\n",
        "def recipe_detail(recipe_id):\n",
        "    cursor = mysql.connection.cursor(MySQLdb.cursors.DictCursor)\n",
        "    cursor.execute('SELECT * FROM recipes WHERE id = %s', (recipe_id,))\n",
        "    recipe = cursor.fetchone()\n",
        "    cursor.execute('SELECT comments.comment, users.username, comments.date_posted FROM comments JOIN users ON comments.user_id = users.id WHERE recipe_id = %s', (recipe_id,))\n",
        "    comments = cursor.fetchall()\n",
        "    return render_template('recipe_detail.html', recipe=recipe, comments=comments)\n",
        "\n",
        "@app.route('/submit_recipe', methods=['GET', 'POST'])\n",
        "def submit_recipe():\n",
        "    if 'user_id' not in session:\n",
        "        flash('You need to log in to submit a recipe', 'danger')\n",
        "        return redirect(url_for('login'))\n",
        "    if request.method == 'POST':\n",
        "        name = request.form['name']\n",
        "        ingredients = request.form['ingredients']\n",
        "        instructions = request.form['instructions']\n",
        "        cooking_time = request.form['cooking_time']\n",
        "        serving_size = request.form['serving_size']\n",
        "        cursor = mysql.connection.cursor(MySQLdb.cursors.DictCursor)\n",
        "        cursor.execute('INSERT INTO recipes (name, ingredients, instructions, cooking_time, serving_size, user_id) VALUES (%s, %s, %s, %s, %s, %s)',\n",
        "                       (name, ingredients, instructions, cooking_time, serving_size, session['user_id']))\n",
        "        mysql.connection.commit()\n",
        "        flash('Your recipe has been submitted!', 'success')\n",
        "        return redirect(url_for('home'))\n",
        "    return render_template('submit_recipe.html')\n",
        "\n",
        "@app.route('/register', methods=['GET', 'POST'])\n",
        "def register():\n",
        "    if request.method == 'POST':\n",
        "        username = request.form['username']\n",
        "        email = request.form['email']\n",
        "        password = generate_password_hash(request.form['password'])\n",
        "        cursor = mysql.connection.cursor(MySQLdb.cursors.DictCursor)\n",
        "        cursor.execute('INSERT INTO users (username, email, password) VALUES (%s, %s, %s)', (username, email, password))\n",
        "        mysql.connection.commit()\n",
        "        flash('Your account has been created! You can now log in', 'success')\n",
        "        return redirect(url_for('login'))\n",
        "    return render_template('register.html')\n",
        "\n",
        "@app.route('/login', methods=['GET', 'POST'])\n",
        "def login():\n",
        "    if request.method == 'POST':\n",
        "        email = request.form['email']\n",
        "        password = request.form['password']\n",
        "        cursor = mysql.connection.cursor(MySQLdb.cursors.DictCursor)\n",
        "        cursor.execute('SELECT * FROM users WHERE email = %s', (email,))\n",
        "        user = cursor.fetchone()\n",
        "        if user and check_password_hash(user['password'], password):\n",
        "            session['user_id'] = user['id']\n",
        "            session['username'] = user['username']\n",
        "            flash('You have been logged in!', 'success')\n",
        "            return redirect(url_for('home'))\n",
        "        else:\n",
        "            flash('Login Unsuccessful. Please check email and password', 'danger')\n",
        "    return render_template('login.html')\n",
        "\n",
        "@app.route('/logout')\n",
        "def logout():\n",
        "    session.pop('user_id', None)\n",
        "    session.pop('username', None)\n",
        "    flash('You have been logged out', 'success')\n",
        "    return redirect(url_for('home'))\n"
      ]
    },
    {
      "cell_type": "code",
      "source": [
        "from flask import Flask\n",
        "from flask_mysqldb import MySQL\n",
        "\n",
        "app = Flask(__name__)\n",
        "app.config.from_object('config.Config')\n",
        "\n",
        "mysql = MySQL(app)\n",
        "\n",
        "from app import routes"
      ],
      "metadata": {
        "id": "lYOufB-xQFh8"
      },
      "execution_count": null,
      "outputs": []
    },
    {
      "cell_type": "code",
      "source": [
        "from app import app\n",
        "\n",
        "if __name__ == '__main__':\n",
        "    app.run(debug=True)"
      ],
      "metadata": {
        "id": "276xm6uWRG60"
      },
      "execution_count": null,
      "outputs": []
    }
  ]
}