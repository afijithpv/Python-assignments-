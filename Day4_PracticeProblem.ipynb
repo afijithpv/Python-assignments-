{
  "nbformat": 4,
  "nbformat_minor": 0,
  "metadata": {
    "colab": {
      "provenance": [],
      "authorship_tag": "ABX9TyMiuMJN/AYdmOIS/dPLWL0R"
    },
    "kernelspec": {
      "name": "python3",
      "display_name": "Python 3"
    },
    "language_info": {
      "name": "python"
    }
  },
  "cells": [
    {
      "cell_type": "code",
      "execution_count": null,
      "metadata": {
        "colab": {
          "base_uri": "https://localhost:8080/"
        },
        "id": "TlT54fJ6CAGb",
        "outputId": "693045b9-0b9c-4ac1-975c-8888eea2e3ae"
      },
      "outputs": [
        {
          "output_type": "stream",
          "name": "stdout",
          "text": [
            "Enter a number between 1 and 10: 5\n",
            "Enter a number between 1 and 10: 7\n",
            "Congratulations! You guessed the number correctly!\n"
          ]
        }
      ],
      "source": [
        "\n",
        "secretNumber = 7\n",
        "guess = 0\n",
        "while guess != secretNumber:\n",
        " guess = int(input(\"Enter a number between 1 and 10: \"))\n",
        "if guess == secretNumber:\n",
        " print(\"Congratulations! You guessed the number correctly!\")\n",
        "elif guess > secretNumber:\n",
        " print(\"Too high! Try again\")\n",
        "else:\n",
        " print(\"Too low! Try again\")\n",
        "\n"
      ]
    },
    {
      "cell_type": "code",
      "source": [
        "num=int(input(\"enter a number\"))\n",
        "factorial=1\n",
        "if num==0:\n",
        "  print(\"factorial of ZERO is 1\")\n",
        "elif num < 0:\n",
        "    print(\"Factorial is not defined for negative numbers\")\n",
        "else:\n",
        " for i in range(1,num+1):\n",
        "  factorial=factorial*i\n",
        " print(\"The factorial of\", num, \"is\", factorial)\n"
      ],
      "metadata": {
        "colab": {
          "base_uri": "https://localhost:8080/"
        },
        "id": "EQ8QpvYeDpdw",
        "outputId": "4f29112f-ed02-48b6-b3ca-a598d887bf08"
      },
      "execution_count": null,
      "outputs": [
        {
          "output_type": "stream",
          "name": "stdout",
          "text": [
            "enter a number-4\n",
            "Factorial is not defined for negative numbers.\n"
          ]
        }
      ]
    },
    {
      "cell_type": "code",
      "source": [
        "\n",
        "L = int(input(\"Enter the minimum dimension L: \"))\n",
        "N = int(input(\"Enter the number of photos: \"))\n",
        "for i in range(N):\n",
        "    W, H = map(int, input(\"Enter the dimensions W and H of photo sepereted by comma\").split(\",\"))\n",
        "    if W < L or H < L:\n",
        "        print(\"UPLOAD ANOTHER\")\n",
        "    else:\n",
        "        print(\"ACCEPTED\")\n"
      ],
      "metadata": {
        "colab": {
          "base_uri": "https://localhost:8080/"
        },
        "id": "3EYcbrs2X9QW",
        "outputId": "681393b0-8471-4a73-b860-ea648b24ec9c"
      },
      "execution_count": null,
      "outputs": [
        {
          "output_type": "stream",
          "name": "stdout",
          "text": [
            "Enter the minimum dimension L: 2\n",
            "Enter the number of photos: 2\n",
            "Enter the dimensions W and H of photo sepereted by comma4,5\n",
            "ACCEPTED\n"
          ]
        }
      ]
    }
  ]
}