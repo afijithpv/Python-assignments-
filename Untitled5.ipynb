{
  "nbformat": 4,
  "nbformat_minor": 0,
  "metadata": {
    "colab": {
      "provenance": [],
      "authorship_tag": "ABX9TyO2IeMlXmSHqDsM+o3exJxr",
      "include_colab_link": true
    },
    "kernelspec": {
      "name": "python3",
      "display_name": "Python 3"
    },
    "language_info": {
      "name": "python"
    }
  },
  "cells": [
    {
      "cell_type": "markdown",
      "metadata": {
        "id": "view-in-github",
        "colab_type": "text"
      },
      "source": [
        "<a href=\"https://colab.research.google.com/github/afijithpv/Python-assignments-/blob/main/Untitled5.ipynb\" target=\"_parent\"><img src=\"https://colab.research.google.com/assets/colab-badge.svg\" alt=\"Open In Colab\"/></a>"
      ]
    },
    {
      "cell_type": "code",
      "execution_count": 1,
      "metadata": {
        "id": "IUoLsKNLeIwu"
      },
      "outputs": [],
      "source": [
        "def middle_value(x, y, z):\n",
        "    values = [x, y, z]\n",
        "    values.sort()\n",
        "    return values[1]"
      ]
    },
    {
      "cell_type": "code",
      "source": [
        "middle_value(4,10,5)"
      ],
      "metadata": {
        "colab": {
          "base_uri": "https://localhost:8080/"
        },
        "id": "cdUYqcnWeUmh",
        "outputId": "a91c47f7-68a9-4a78-b00e-0467f0909f95"
      },
      "execution_count": 2,
      "outputs": [
        {
          "output_type": "execute_result",
          "data": {
            "text/plain": [
              "5"
            ]
          },
          "metadata": {},
          "execution_count": 2
        }
      ]
    },
    {
      "cell_type": "code",
      "source": [
        "def add(x, y):\n",
        "    return x + y\n",
        "\n",
        "def subtract(x, y):\n",
        "    return x - y\n",
        "\n",
        "def multiply(x, y):\n",
        "    return x * y\n",
        "\n",
        "def divide(x, y):\n",
        "    return x / y\n",
        "\n",
        "def calculator():\n",
        "    print(\"Select an operation:\")\n",
        "    print(\"1. Addition\")\n",
        "    print(\"2. Subtraction\")\n",
        "    print(\"3. Multiplication\")\n",
        "    print(\"4. Division\")\n",
        "\n",
        "    operation = input(\"Enter the operation number (1-4): \")\n",
        "    num1 = float(input(\"Enter the first number: \"))\n",
        "    num2 = float(input(\"Enter the second number: \"))\n",
        "\n",
        "    if operation == \"1\":\n",
        "        print(\"Result:\", add(num1, num2))\n",
        "    elif operation == \"2\":\n",
        "        print(\"Result:\", subtract(num1, num2))\n",
        "    elif operation == \"3\":\n",
        "        print(\"Result:\", multiply(num1, num2))\n",
        "    elif operation == \"4\":\n",
        "        if num2 != 0:\n",
        "            print(\"Result:\", divide(num1, num2))\n",
        "        else:\n",
        "            print(\"Error: Cannot divide by zero!\")\n",
        "    else:\n",
        "        print(\"Invalid operation!\")\n",
        "\n",
        "calculator()"
      ],
      "metadata": {
        "colab": {
          "base_uri": "https://localhost:8080/"
        },
        "id": "SKiQJ1NqftSH",
        "outputId": "93fb7846-6869-48ad-a233-a87412ddf503"
      },
      "execution_count": 3,
      "outputs": [
        {
          "output_type": "stream",
          "name": "stdout",
          "text": [
            "Select an operation:\n",
            "1. Addition\n",
            "2. Subtraction\n",
            "3. Multiplication\n",
            "4. Division\n",
            "Enter the operation number (1-4): 4\n",
            "Enter the first number: 4\n",
            "Enter the second number: 6\n",
            "Result: 0.6666666666666666\n"
          ]
        }
      ]
    },
    {
      "cell_type": "code",
      "source": [
        "calculator()\n"
      ],
      "metadata": {
        "colab": {
          "base_uri": "https://localhost:8080/"
        },
        "id": "PLD1hSh5g6Hc",
        "outputId": "f3ea51c3-f044-455b-be1e-95c0345665b1"
      },
      "execution_count": 4,
      "outputs": [
        {
          "output_type": "stream",
          "name": "stdout",
          "text": [
            "Select an operation:\n",
            "1. Addition\n",
            "2. Subtraction\n",
            "3. Multiplication\n",
            "4. Division\n",
            "Enter the operation number (1-4): 3\n",
            "Enter the first number: 5\n",
            "Enter the second number: 6\n",
            "Result: 30.0\n"
          ]
        }
      ]
    },
    {
      "cell_type": "code",
      "source": [
        "def calculate_hypotenuse(side1, side2):\n",
        "    hypotenuse = (side1 ** 2 + side2 ** 2) ** 0.5\n",
        "    return hypotenuse\n",
        "\n",
        "side1 = float(input(\"Enter the length of the first side: \"))\n",
        "side2 = float(input(\"Enter the length of the second side: \"))\n",
        "hypotenuse = calculate_hypotenuse(side1, side2)\n",
        "print(\"The hypotenuse is:\", hypotenuse)"
      ],
      "metadata": {
        "colab": {
          "base_uri": "https://localhost:8080/"
        },
        "id": "9SvTBWcIio2Q",
        "outputId": "ea429bfd-f5f2-4716-99e4-f73a51c792c0"
      },
      "execution_count": 6,
      "outputs": [
        {
          "output_type": "stream",
          "name": "stdout",
          "text": [
            "Enter the length of the first side: 1\n",
            "Enter the length of the second side: 2\n",
            "The hypotenuse is: 2.23606797749979\n"
          ]
        }
      ]
    },
    {
      "cell_type": "code",
      "source": [
        "class Rectangle:\n",
        "    def __init__(rec, length, width):\n",
        "        rec.length = length\n",
        "        rec.width = width\n",
        "\n",
        "    def perimeter(rec):\n",
        "        return 2 * (rec.length + rec.width)\n",
        "\n",
        "    def area(rec):\n",
        "        return rec.length * rec.width\n",
        "\n",
        "    def display(rec):\n",
        "        print(\"Length:\", rec.length)\n",
        "        print(\"Width:\", rec.width)\n",
        "        print(\"Perimeter:\", rec.perimeter())\n",
        "        print(\"Area:\", rec.area())"
      ],
      "metadata": {
        "id": "PFmMI9stq454"
      },
      "execution_count": 8,
      "outputs": []
    },
    {
      "cell_type": "code",
      "source": [
        "rect1 = Rectangle(4, 5)\n",
        "rect1.display()\n"
      ],
      "metadata": {
        "colab": {
          "base_uri": "https://localhost:8080/"
        },
        "id": "1iZyLAO8rY-z",
        "outputId": "fac7fa4e-e5b1-4293-86cf-9e41f23c77a9"
      },
      "execution_count": 9,
      "outputs": [
        {
          "output_type": "stream",
          "name": "stdout",
          "text": [
            "Length: 4\n",
            "Width: 5\n",
            "Perimeter: 18\n",
            "Area: 20\n"
          ]
        }
      ]
    },
    {
      "cell_type": "code",
      "source": [
        "class ABC_Bank:\n",
        "    def __init__( self,accountNumber,name,balance=0):\n",
        "        self.accountNumber=accountNumber\n",
        "        self.name =name\n",
        "        self.balance =balance\n",
        "\n",
        "    def deposit(self, amount):\n",
        "        self.balance += amount\n",
        "        print(\"Deposit of\", amount, \"successful.\")\n",
        "        print(\"Current balance:\", self.balance)\n",
        "\n",
        "    def withdrawal(self,amount):\n",
        "        self.balance-=amount\n",
        "        print(\"withdrawal of\", amount, \"successful.\")\n",
        "        print(\"Current balance:\", self.balance)\n",
        "\n",
        "    def bankfees(self,balance):\n",
        "        bankfee=balance*0.5\n",
        "        self.balance=balance-(balance*0.05)\n",
        "        print(\"Current balance after bank fee is:\", self.balance)\n",
        "\n",
        "\n",
        "\n",
        "    def display(self):\n",
        "        print(\"Account Number:\", self.account_number)\n",
        "        print(\"Account Holder Name:\", self.name)\n",
        "        print(\"Current Balance:\", self.balance)\n",
        "\n",
        "\n"
      ],
      "metadata": {
        "id": "FKglbPZQ7hYf"
      },
      "execution_count": 18,
      "outputs": []
    },
    {
      "cell_type": "code",
      "source": [
        "b=ABC_Bank(1251,\"abiii\",200)\n",
        "b.deposit(1000)"
      ],
      "metadata": {
        "colab": {
          "base_uri": "https://localhost:8080/"
        },
        "id": "cRlY3KNgPje-",
        "outputId": "62d016ce-1ff0-4d4a-a622-06bcac36f08b"
      },
      "execution_count": 8,
      "outputs": [
        {
          "output_type": "stream",
          "name": "stdout",
          "text": [
            "Deposit of 1000 successful.\n",
            "Current balance: 1200\n"
          ]
        }
      ]
    },
    {
      "cell_type": "code",
      "source": [
        "b=ABC_Bank(1251,\"abiii\",200)\n",
        "b.bankfees(1200)"
      ],
      "metadata": {
        "colab": {
          "base_uri": "https://localhost:8080/"
        },
        "id": "g4f3juw9UsqQ",
        "outputId": "fce03d93-0486-462d-f16d-fd0a6718e388"
      },
      "execution_count": 19,
      "outputs": [
        {
          "output_type": "stream",
          "name": "stdout",
          "text": [
            "Current balance after bank fee is: 1140.0\n"
          ]
        }
      ]
    },
    {
      "cell_type": "code",
      "source": [],
      "metadata": {
        "id": "LfXjizzYV49i"
      },
      "execution_count": null,
      "outputs": []
    }
  ]
}