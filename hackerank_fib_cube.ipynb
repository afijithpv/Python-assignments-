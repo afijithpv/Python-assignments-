{
  "nbformat": 4,
  "nbformat_minor": 0,
  "metadata": {
    "colab": {
      "provenance": [],
      "authorship_tag": "ABX9TyOvOaCs+DfZ+1MwLqTr4iW3"
    },
    "kernelspec": {
      "name": "python3",
      "display_name": "Python 3"
    },
    "language_info": {
      "name": "python"
    }
  },
  "cells": [
    {
      "cell_type": "code",
      "source": [
        "def fibonacci(n):\n",
        "    fib_seq = [0, 1]\n",
        "    while len(fib_seq) < n:\n",
        "        next_term = fib_seq[-1] + fib_seq[-2]\n",
        "        fib_seq.append(next_term)\n",
        "    cube = list(map(lambda x: x ** 3, fib_seq))\n",
        "    return fib_seq, cube\n",
        "\n",
        "n = int(input(\"Enter how many numbers: \"))\n",
        "fib_seq, cube = fibonacci(n)\n",
        "print(cube)"
      ],
      "metadata": {
        "colab": {
          "base_uri": "https://localhost:8080/"
        },
        "id": "YMy0QS5lCAm5",
        "outputId": "b373c2c7-8452-47c7-c243-3399f1e7f325"
      },
      "execution_count": 1,
      "outputs": [
        {
          "output_type": "stream",
          "name": "stdout",
          "text": [
            "Enter how many numbers: 5\n",
            "[0, 1, 1, 8, 27]\n"
          ]
        }
      ]
    }
  ]
}